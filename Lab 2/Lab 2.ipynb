{
 "cells": [
  {
   "cell_type": "code",
   "execution_count": 1,
   "source": [
    "import pandas as pd\r\n",
    "import matplotlib.pyplot as plt"
   ],
   "outputs": [],
   "metadata": {}
  },
  {
   "cell_type": "code",
   "execution_count": 2,
   "source": [
    "df = pd.read_table(\"../Datasets/breast-cancer-wisconsin.data\", \r\n",
    "     sep=\",\", \r\n",
    "     names=['C1','C2','C3','C4','C5','C6','C7','C8','C9','C10','C11' ], \r\n",
    "     index_col=\"C1\")"
   ],
   "outputs": [],
   "metadata": {}
  },
  {
   "cell_type": "code",
   "execution_count": 3,
   "source": [
    "df=df.reset_index()"
   ],
   "outputs": [],
   "metadata": {}
  },
  {
   "cell_type": "code",
   "execution_count": 4,
   "source": [
    "has_invalid=df[df['C7']=='?']\r\n",
    "df.drop(list(has_invalid.index), axis=0, inplace=True)\r\n",
    "df['C7']=pd.to_numeric(df['C7'])"
   ],
   "outputs": [],
   "metadata": {}
  },
  {
   "cell_type": "code",
   "execution_count": 5,
   "source": [
    "df.describe()"
   ],
   "outputs": [
    {
     "output_type": "execute_result",
     "data": {
      "text/plain": [
       "                 C1          C2          C3          C4          C5  \\\n",
       "count  6.830000e+02  683.000000  683.000000  683.000000  683.000000   \n",
       "mean   1.076720e+06    4.442167    3.150805    3.215227    2.830161   \n",
       "std    6.206440e+05    2.820761    3.065145    2.988581    2.864562   \n",
       "min    6.337500e+04    1.000000    1.000000    1.000000    1.000000   \n",
       "25%    8.776170e+05    2.000000    1.000000    1.000000    1.000000   \n",
       "50%    1.171795e+06    4.000000    1.000000    1.000000    1.000000   \n",
       "75%    1.238705e+06    6.000000    5.000000    5.000000    4.000000   \n",
       "max    1.345435e+07   10.000000   10.000000   10.000000   10.000000   \n",
       "\n",
       "               C6          C7          C8          C9         C10         C11  \n",
       "count  683.000000  683.000000  683.000000  683.000000  683.000000  683.000000  \n",
       "mean     3.234261    3.544656    3.445095    2.869693    1.603221    2.699854  \n",
       "std      2.223085    3.643857    2.449697    3.052666    1.732674    0.954592  \n",
       "min      1.000000    1.000000    1.000000    1.000000    1.000000    2.000000  \n",
       "25%      2.000000    1.000000    2.000000    1.000000    1.000000    2.000000  \n",
       "50%      2.000000    1.000000    3.000000    1.000000    1.000000    2.000000  \n",
       "75%      4.000000    6.000000    5.000000    4.000000    1.000000    4.000000  \n",
       "max     10.000000   10.000000   10.000000   10.000000   10.000000    4.000000  "
      ],
      "text/html": [
       "<div>\n",
       "<style scoped>\n",
       "    .dataframe tbody tr th:only-of-type {\n",
       "        vertical-align: middle;\n",
       "    }\n",
       "\n",
       "    .dataframe tbody tr th {\n",
       "        vertical-align: top;\n",
       "    }\n",
       "\n",
       "    .dataframe thead th {\n",
       "        text-align: right;\n",
       "    }\n",
       "</style>\n",
       "<table border=\"1\" class=\"dataframe\">\n",
       "  <thead>\n",
       "    <tr style=\"text-align: right;\">\n",
       "      <th></th>\n",
       "      <th>C1</th>\n",
       "      <th>C2</th>\n",
       "      <th>C3</th>\n",
       "      <th>C4</th>\n",
       "      <th>C5</th>\n",
       "      <th>C6</th>\n",
       "      <th>C7</th>\n",
       "      <th>C8</th>\n",
       "      <th>C9</th>\n",
       "      <th>C10</th>\n",
       "      <th>C11</th>\n",
       "    </tr>\n",
       "  </thead>\n",
       "  <tbody>\n",
       "    <tr>\n",
       "      <th>count</th>\n",
       "      <td>6.830000e+02</td>\n",
       "      <td>683.000000</td>\n",
       "      <td>683.000000</td>\n",
       "      <td>683.000000</td>\n",
       "      <td>683.000000</td>\n",
       "      <td>683.000000</td>\n",
       "      <td>683.000000</td>\n",
       "      <td>683.000000</td>\n",
       "      <td>683.000000</td>\n",
       "      <td>683.000000</td>\n",
       "      <td>683.000000</td>\n",
       "    </tr>\n",
       "    <tr>\n",
       "      <th>mean</th>\n",
       "      <td>1.076720e+06</td>\n",
       "      <td>4.442167</td>\n",
       "      <td>3.150805</td>\n",
       "      <td>3.215227</td>\n",
       "      <td>2.830161</td>\n",
       "      <td>3.234261</td>\n",
       "      <td>3.544656</td>\n",
       "      <td>3.445095</td>\n",
       "      <td>2.869693</td>\n",
       "      <td>1.603221</td>\n",
       "      <td>2.699854</td>\n",
       "    </tr>\n",
       "    <tr>\n",
       "      <th>std</th>\n",
       "      <td>6.206440e+05</td>\n",
       "      <td>2.820761</td>\n",
       "      <td>3.065145</td>\n",
       "      <td>2.988581</td>\n",
       "      <td>2.864562</td>\n",
       "      <td>2.223085</td>\n",
       "      <td>3.643857</td>\n",
       "      <td>2.449697</td>\n",
       "      <td>3.052666</td>\n",
       "      <td>1.732674</td>\n",
       "      <td>0.954592</td>\n",
       "    </tr>\n",
       "    <tr>\n",
       "      <th>min</th>\n",
       "      <td>6.337500e+04</td>\n",
       "      <td>1.000000</td>\n",
       "      <td>1.000000</td>\n",
       "      <td>1.000000</td>\n",
       "      <td>1.000000</td>\n",
       "      <td>1.000000</td>\n",
       "      <td>1.000000</td>\n",
       "      <td>1.000000</td>\n",
       "      <td>1.000000</td>\n",
       "      <td>1.000000</td>\n",
       "      <td>2.000000</td>\n",
       "    </tr>\n",
       "    <tr>\n",
       "      <th>25%</th>\n",
       "      <td>8.776170e+05</td>\n",
       "      <td>2.000000</td>\n",
       "      <td>1.000000</td>\n",
       "      <td>1.000000</td>\n",
       "      <td>1.000000</td>\n",
       "      <td>2.000000</td>\n",
       "      <td>1.000000</td>\n",
       "      <td>2.000000</td>\n",
       "      <td>1.000000</td>\n",
       "      <td>1.000000</td>\n",
       "      <td>2.000000</td>\n",
       "    </tr>\n",
       "    <tr>\n",
       "      <th>50%</th>\n",
       "      <td>1.171795e+06</td>\n",
       "      <td>4.000000</td>\n",
       "      <td>1.000000</td>\n",
       "      <td>1.000000</td>\n",
       "      <td>1.000000</td>\n",
       "      <td>2.000000</td>\n",
       "      <td>1.000000</td>\n",
       "      <td>3.000000</td>\n",
       "      <td>1.000000</td>\n",
       "      <td>1.000000</td>\n",
       "      <td>2.000000</td>\n",
       "    </tr>\n",
       "    <tr>\n",
       "      <th>75%</th>\n",
       "      <td>1.238705e+06</td>\n",
       "      <td>6.000000</td>\n",
       "      <td>5.000000</td>\n",
       "      <td>5.000000</td>\n",
       "      <td>4.000000</td>\n",
       "      <td>4.000000</td>\n",
       "      <td>6.000000</td>\n",
       "      <td>5.000000</td>\n",
       "      <td>4.000000</td>\n",
       "      <td>1.000000</td>\n",
       "      <td>4.000000</td>\n",
       "    </tr>\n",
       "    <tr>\n",
       "      <th>max</th>\n",
       "      <td>1.345435e+07</td>\n",
       "      <td>10.000000</td>\n",
       "      <td>10.000000</td>\n",
       "      <td>10.000000</td>\n",
       "      <td>10.000000</td>\n",
       "      <td>10.000000</td>\n",
       "      <td>10.000000</td>\n",
       "      <td>10.000000</td>\n",
       "      <td>10.000000</td>\n",
       "      <td>10.000000</td>\n",
       "      <td>4.000000</td>\n",
       "    </tr>\n",
       "  </tbody>\n",
       "</table>\n",
       "</div>"
      ]
     },
     "metadata": {},
     "execution_count": 5
    }
   ],
   "metadata": {}
  },
  {
   "cell_type": "code",
   "execution_count": 6,
   "source": [
    "df.info()"
   ],
   "outputs": [
    {
     "output_type": "stream",
     "name": "stdout",
     "text": [
      "<class 'pandas.core.frame.DataFrame'>\n",
      "Int64Index: 683 entries, 0 to 698\n",
      "Data columns (total 11 columns):\n",
      " #   Column  Non-Null Count  Dtype\n",
      "---  ------  --------------  -----\n",
      " 0   C1      683 non-null    int64\n",
      " 1   C2      683 non-null    int64\n",
      " 2   C3      683 non-null    int64\n",
      " 3   C4      683 non-null    int64\n",
      " 4   C5      683 non-null    int64\n",
      " 5   C6      683 non-null    int64\n",
      " 6   C7      683 non-null    int64\n",
      " 7   C8      683 non-null    int64\n",
      " 8   C9      683 non-null    int64\n",
      " 9   C10     683 non-null    int64\n",
      " 10  C11     683 non-null    int64\n",
      "dtypes: int64(11)\n",
      "memory usage: 64.0 KB\n"
     ]
    }
   ],
   "metadata": {}
  },
  {
   "cell_type": "code",
   "execution_count": 8,
   "source": [
    "cols=['C2','C3','C4','C5','C6','C7','C8','C9','C10' ]\r\n",
    "print(\"Column\\tCleanliness\\t\\tV\")\r\n",
    "vals={i: {} for i in cols}\r\n",
    "final_vals=[]\r\n",
    "for c in cols:\r\n",
    "    highest_clean=0\r\n",
    "    best_clean=0\r\n",
    "    for v in range(1,11):\r\n",
    "        set1=[]\r\n",
    "        set2=[]\r\n",
    "        for i in df.index:\r\n",
    "            j = df[c][i]\r\n",
    "            if j<v:\r\n",
    "                set1.append(df[df.index==i])\r\n",
    "            else:\r\n",
    "                set2.append(df[df.index==i])\r\n",
    "#         print(len(set1), len(set2),len(df[c]),'\\n')\r\n",
    "        \r\n",
    "        if set1!=[]:\r\n",
    "            class1=0\r\n",
    "            class2=0\r\n",
    "            for i in set1:\r\n",
    "                if int(i['C11'])==2:\r\n",
    "                    class1+=1\r\n",
    "                else:\r\n",
    "                    class2+=1\r\n",
    "            clean1=max(class1, class2)/len(set1)\r\n",
    "#             print(\"Set1\\t{}\\t{}\\t{}\\t{}\\t{}\".format(c, v, class1, class2, clean1))\r\n",
    "        else:\r\n",
    "            clean1=1\r\n",
    "#             print(\"Set1 is empty\")\r\n",
    "        if set2!=[]:\r\n",
    "            class1=0\r\n",
    "            class2=0\r\n",
    "            for i in set2:\r\n",
    "                if int(i['C11'])==2:\r\n",
    "                    class1+=1\r\n",
    "                else:\r\n",
    "                    class2+=1\r\n",
    "            clean2=max(class1, class2)/len(set2)\r\n",
    "#             print(\"Set2\\t{}\\t{}\\t{}\\t{}\\t{}\".format(c, v, class1, class2, clean2))\r\n",
    "#             print()\r\n",
    "        else:\r\n",
    "            clean2=1\r\n",
    "#             print(\"Set2 is empty\")\r\n",
    "        total_clean=clean1+clean2\r\n",
    "        vals[c][v]=total_clean\r\n",
    "        if highest_clean<total_clean:\r\n",
    "            highest_clean=total_clean\r\n",
    "            best_clean=v\r\n",
    "    print(\"{}\\t{}\\t{}\".format(c, highest_clean, best_clean))"
   ],
   "outputs": [
    {
     "output_type": "stream",
     "name": "stdout",
     "text": [
      "Column\tCleanliness\t\tV\n",
      "C2\t1.7903064415259538\t7\n",
      "C3\t1.869633403256418\t4\n",
      "C4\t1.8459073217017485\t4\n",
      "C5\t1.7720457060271437\t4\n",
      "C6\t1.7738671079429735\t4\n",
      "C7\t1.8260280468802927\t6\n",
      "C8\t1.8195529383487563\t4\n",
      "C9\t1.792595905386603\t3\n",
      "C10\t1.6752901829628173\t3\n"
     ]
    }
   ],
   "metadata": {
    "scrolled": true
   }
  },
  {
   "cell_type": "code",
   "execution_count": 374,
   "source": [
    "vals"
   ],
   "outputs": [
    {
     "output_type": "execute_result",
     "data": {
      "text/plain": [
       "{'C2': {1: 1.6500732064421668,\n",
       "  2: 1.5445937367752856,\n",
       "  3: 1.4933273354325984,\n",
       "  4: 1.4992561477203115,\n",
       "  5: 1.585476956055734,\n",
       "  6: 1.7387103825136612,\n",
       "  7: 1.7903064415259538,\n",
       "  8: 1.7598708434826942,\n",
       "  9: 1.74,\n",
       "  10: 1.7231270358306188},\n",
       " 'C3': {1: 1.6500732064421668,\n",
       "  2: 1.74734065553922,\n",
       "  3: 1.827895639613614,\n",
       "  4: 1.869633403256418,\n",
       "  5: 1.8509673790776153,\n",
       "  6: 1.7990129470580696,\n",
       "  7: 1.758303730017762,\n",
       "  8: 1.739648191623286,\n",
       "  9: 1.7125308780597348,\n",
       "  10: 1.7207792207792207},\n",
       " 'C4': {1: 1.6500732064421668,\n",
       "  2: 1.6974837481346803,\n",
       "  3: 1.8020955321338585,\n",
       "  4: 1.8459073217017485,\n",
       "  5: 1.8357486338797813,\n",
       "  6: 1.7920753871433552,\n",
       "  7: 1.7615060927500656,\n",
       "  8: 1.738707422938277,\n",
       "  9: 1.7184466019417477,\n",
       "  10: 1.7104},\n",
       " 'C5': {1: 1.6500732064421668,\n",
       "  2: 1.6443537773098185,\n",
       "  3: 1.6972627876748987,\n",
       "  4: 1.7720457060271437,\n",
       "  5: 1.7476904556279607,\n",
       "  6: 1.7448627568621569,\n",
       "  7: 1.7456634178952184,\n",
       "  8: 1.7276611813339695,\n",
       "  9: 1.6929867448935245,\n",
       "  10: 1.6872321945570352},\n",
       " 'C6': {1: 1.6500732064421668,\n",
       "  2: 1.6048157632664675,\n",
       "  3: 1.772714104653268,\n",
       "  4: 1.7738671079429735,\n",
       "  5: 1.726950628736343,\n",
       "  6: 1.7006426099851706,\n",
       "  7: 1.6334329101319394,\n",
       "  8: 1.6455573220279103,\n",
       "  9: 1.6512354312354312,\n",
       "  10: 1.6471897882446072},\n",
       " 'C7': {1: 1.6500732064421668,\n",
       "  2: 1.759839592075211,\n",
       "  3: 1.8010181496237272,\n",
       "  4: 1.8187365958276467,\n",
       "  5: 1.8150968111670553,\n",
       "  6: 1.8260280468802927,\n",
       "  7: 1.8185070519435844,\n",
       "  8: 1.811746167152437,\n",
       "  9: 1.7923765407866843,\n",
       "  10: 1.7776357036792607},\n",
       " 'C8': {1: 1.6500732064421668,\n",
       "  2: 1.5420137585991245,\n",
       "  3: 1.587589725849693,\n",
       "  4: 1.8195529383487563,\n",
       "  5: 1.7854357928142355,\n",
       "  6: 1.752949111299196,\n",
       "  7: 1.7458895534844903,\n",
       "  8: 1.7115384615384617,\n",
       "  9: 1.6809815950920246,\n",
       "  10: 1.6696832579185519},\n",
       " 'C9': {1: 1.6500732064421668,\n",
       "  2: 1.6939372141065367,\n",
       "  3: 1.792595905386603,\n",
       "  4: 1.7776946616797007,\n",
       "  5: 1.7491080156402736,\n",
       "  6: 1.7290703301430261,\n",
       "  7: 1.7276693491197237,\n",
       "  8: 1.7232339089481945,\n",
       "  9: 1.7302631578947367,\n",
       "  10: 1.7126805778491172},\n",
       " 'C10': {1: 1.6500732064421668,\n",
       "  2: 1.6572084073416224,\n",
       "  3: 1.6752901829628173,\n",
       "  4: 1.6411983420699743,\n",
       "  5: 1.6108475894245724,\n",
       "  6: 1.6222242363817638,\n",
       "  7: 1.6133979813971897,\n",
       "  8: 1.6247421262549855,\n",
       "  9: 1.6636771300448432,\n",
       "  10: 1.6636771300448432}}"
      ]
     },
     "metadata": {},
     "execution_count": 374
    }
   ],
   "metadata": {}
  },
  {
   "cell_type": "code",
   "execution_count": 375,
   "source": [
    "is2 = df[df['C11']==2] \r\n",
    "is4 = df[df['C11']==4]\r\n",
    "for i in range(2, 11):\r\n",
    "    x2= is2['C'+str(i)].hist(bins=6, color='green', alpha=0.4, figsize=[10,5])\r\n",
    "    x4= is4['C'+str(i)].hist(bins=6, color='red', alpha=0.4, figsize=[10,5]) \r\n",
    "    plt.title('C'+str(i))\r\n",
    "    plt.show()"
   ],
   "outputs": [
    {
     "output_type": "display_data",
     "data": {
      "text/plain": [
       "<Figure size 720x360 with 1 Axes>"
      ],
      "image/png": "[encoded data removed]"
     },
     "metadata": {
      "needs_background": "light"
     }
    },
    {
     "output_type": "display_data",
     "data": {
      "text/plain": [
       "<Figure size 720x360 with 1 Axes>"
      ],
      "image/png": "[encoded data removed]"
     },
     "metadata": {
      "needs_background": "light"
     }
    },
    {
     "output_type": "display_data",
     "data": {
      "text/plain": [
       "<Figure size 720x360 with 1 Axes>"
      ],
      "image/png": "[encoded data removed]"
     },
     "metadata": {
      "needs_background": "light"
     }
    },
    {
     "output_type": "display_data",
     "data": {
      "text/plain": [
       "<Figure size 720x360 with 1 Axes>"
      ],
      "image/png": "[encoded data removed]"
     },
     "metadata": {
      "needs_background": "light"
     }
    },
    {
     "output_type": "display_data",
     "data": {
      "text/plain": [
       "<Figure size 720x360 with 1 Axes>"
      ],
      "image/png": "[encoded data removed]"
     },
     "metadata": {
      "needs_background": "light"
     }
    },
    {
     "output_type": "display_data",
     "data": {
      "text/plain": [
       "<Figure size 720x360 with 1 Axes>"
      ],
      "image/png": "[encoded data removed]"
     },
     "metadata": {
      "needs_background": "light"
     }
    },
    {
     "output_type": "display_data",
     "data": {
      "text/plain": [
       "<Figure size 720x360 with 1 Axes>"
      ],
      "image/png": "[encoded data removed]"
     },
     "metadata": {
      "needs_background": "light"
     }
    },
    {
     "output_type": "display_data",
     "data": {
      "text/plain": [
       "<Figure size 720x360 with 1 Axes>"
      ],
      "image/png": "[encoded data removed]"
     },
     "metadata": {
      "needs_background": "light"
     }
    },
    {
     "output_type": "display_data",
     "data": {
      "text/plain": [
       "<Figure size 720x360 with 1 Axes>"
      ],
      "image/png": "[encoded data removed]"
     },
     "metadata": {
      "needs_background": "light"
     }
    }
   ],
   "metadata": {}
  }
 ],
 "metadata": {
  "kernelspec": {
   "display_name": "Python 3.8.3 64-bit",
   "language": "python",
   "name": "python38364bitd4526137a02841f9a3a87b16f8c61970"
  },
  "language_info": {
   "codemirror_mode": {
    "name": "ipython",
    "version": 3
   },
   "file_extension": ".py",
   "mimetype": "text/x-python",
   "name": "python",
   "nbconvert_exporter": "python",
   "pygments_lexer": "ipython3",
   "version": "3.8.3"
  }
 },
 "nbformat": 4,
 "nbformat_minor": 4
}