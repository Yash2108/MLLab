{
  "nbformat": 4,
  "nbformat_minor": 0,
  "metadata": {
    "colab": {
      "name": "Lab 3.ipynb",
      "provenance": [],
      "collapsed_sections": []
    },
    "kernelspec": {
      "name": "python3",
      "display_name": "Python 3"
    },
    "language_info": {
      "name": "python"
    }
  },
  "cells": [
    {
      "cell_type": "markdown",
      "metadata": {
        "id": "XmajW8CR-Dl9"
      },
      "source": [
        "## Imports"
      ]
    },
    {
      "cell_type": "code",
      "metadata": {
        "id": "5CKh9F-qzm9L"
      },
      "source": [
        "import pandas as pd\n",
        "import matplotlib.pyplot as plt\n",
        "from sklearn.model_selection import train_test_split\n",
        "from sklearn.tree import DecisionTreeClassifier\n",
        "from sklearn.metrics import accuracy_score"
      ],
      "execution_count": 13,
      "outputs": []
    },
    {
      "cell_type": "markdown",
      "metadata": {
        "id": "IVuZppud-GUI"
      },
      "source": [
        "## Importing and Cleaning Data"
      ]
    },
    {
      "cell_type": "code",
      "metadata": {
        "id": "Fjz2lPMxzyF8"
      },
      "source": [
        "df = pd.read_table(\"breast-cancer-wisconsin.data\", sep=\",\",names=['C1','C2','C3','C4','C5','C6','C7','C8','C9','C10','C11' ], index_col=\"C1\")"
      ],
      "execution_count": 14,
      "outputs": []
    },
    {
      "cell_type": "code",
      "metadata": {
        "id": "CSzMYwy8zzmE"
      },
      "source": [
        "df=df.reset_index()\n",
        "has_invalid=df[df['C7']=='?']\n",
        "df.drop(list(has_invalid.index), axis=0, inplace=True)\n",
        "df['C7']=pd.to_numeric(df['C7'])"
      ],
      "execution_count": 15,
      "outputs": []
    },
    {
      "cell_type": "markdown",
      "metadata": {
        "id": "_nqsm5Le9vPx"
      },
      "source": [
        "## Test Size:Train Size = 30:70"
      ]
    },
    {
      "cell_type": "code",
      "metadata": {
        "id": "2zLM01Pj0iVV"
      },
      "source": [
        "X = df.values[:, 1:10]\n",
        "Y = df.values[:, -1]\n",
        "X_train, X_test, y_train, y_test = train_test_split(X, Y, test_size = 0.3)"
      ],
      "execution_count": 16,
      "outputs": []
    },
    {
      "cell_type": "code",
      "metadata": {
        "colab": {
          "base_uri": "https://localhost:8080/"
        },
        "id": "N-8N6FrS02SI",
        "outputId": "3a976422-5498-41c3-a296-d58122a1e6d1"
      },
      "source": [
        "x_axis1=[]\n",
        "y_axis1=[]\n",
        "x_axis4=[]\n",
        "y_axis4=[]\n",
        "for i in range(1,11):\n",
        "  clf_gini = DecisionTreeClassifier(criterion = \"gini\", max_depth=i)\n",
        "  clf_gini.fit(X_train, y_train)\n",
        "  y_pred = clf_gini.predict(X_test)\n",
        "  # print(\"Predicted values:\")\n",
        "  # print(y_pred)\n",
        "  print (f\"Depth:{i} Accuracy : {accuracy_score(y_test,y_pred)*100}\")\n",
        "  y_axis1.append(accuracy_score(y_test,y_pred)*100)\n",
        "  x_axis1.append(i)\n",
        "  y_pred = clf_gini.predict(X_train)\n",
        "  # print(\"Predicted values:\")\n",
        "  # print(y_pred)\n",
        "  # print (f\"Depth:{i} Accuracy : {accuracy_score(y_test,y_pred)*100}\")\n",
        "  y_axis4.append(accuracy_score(y_train,y_pred)*100)\n",
        "  x_axis4.append(i)"
      ],
      "execution_count": 17,
      "outputs": [
        {
          "output_type": "stream",
          "text": [
            "Depth:1 Accuracy : 90.73170731707317\n",
            "Depth:2 Accuracy : 92.6829268292683\n",
            "Depth:3 Accuracy : 92.19512195121952\n",
            "Depth:4 Accuracy : 93.17073170731707\n",
            "Depth:5 Accuracy : 93.17073170731707\n",
            "Depth:6 Accuracy : 92.6829268292683\n",
            "Depth:7 Accuracy : 90.73170731707317\n",
            "Depth:8 Accuracy : 91.70731707317074\n",
            "Depth:9 Accuracy : 90.2439024390244\n",
            "Depth:10 Accuracy : 92.19512195121952\n"
          ],
          "name": "stdout"
        }
      ]
    },
    {
      "cell_type": "markdown",
      "metadata": {
        "id": "Bdckz5Cn90aB"
      },
      "source": [
        "## Test Size:Train Size = 50:50"
      ]
    },
    {
      "cell_type": "code",
      "metadata": {
        "id": "x2-nX2Uv8v9Z"
      },
      "source": [
        "X = df.values[:, 1:10]\n",
        "Y = df.values[:, -1]\n",
        "X_train, X_test, y_train, y_test = train_test_split(X, Y, test_size = 0.5)"
      ],
      "execution_count": 18,
      "outputs": []
    },
    {
      "cell_type": "code",
      "metadata": {
        "colab": {
          "base_uri": "https://localhost:8080/"
        },
        "id": "CfJxeFdS82wi",
        "outputId": "c4f8f751-fddf-4b3e-eec1-6960de9cfc5f"
      },
      "source": [
        "x_axis2=[]\n",
        "y_axis2=[]\n",
        "x_axis5=[]\n",
        "y_axis5=[]\n",
        "for i in range(1,11):\n",
        "  clf_gini = DecisionTreeClassifier(criterion = \"gini\", max_depth=i)\n",
        "  clf_gini.fit(X_train, y_train)\n",
        "  y_pred = clf_gini.predict(X_test)\n",
        "  # print(\"Predicted values:\")\n",
        "  # print(y_pred)\n",
        "  print (f\"Depth:{i} Accuracy : {accuracy_score(y_test,y_pred)*100}\")\n",
        "  y_axis2.append(accuracy_score(y_test,y_pred)*100)\n",
        "  x_axis2.append(i)\n",
        "  y_pred = clf_gini.predict(X_train)\n",
        "  # print(\"Predicted values:\")\n",
        "  # print(y_pred)\n",
        "  # print (f\"Depth:{i} Accuracy : {accuracy_score(y_test,y_pred)*100}\")\n",
        "  y_axis5.append(accuracy_score(y_train,y_pred)*100)\n",
        "  x_axis5.append(i)"
      ],
      "execution_count": 19,
      "outputs": [
        {
          "output_type": "stream",
          "text": [
            "Depth:1 Accuracy : 93.56725146198829\n",
            "Depth:2 Accuracy : 92.10526315789474\n",
            "Depth:3 Accuracy : 94.73684210526315\n",
            "Depth:4 Accuracy : 95.32163742690058\n",
            "Depth:5 Accuracy : 93.27485380116958\n",
            "Depth:6 Accuracy : 93.85964912280701\n",
            "Depth:7 Accuracy : 92.69005847953217\n",
            "Depth:8 Accuracy : 93.85964912280701\n",
            "Depth:9 Accuracy : 93.27485380116958\n",
            "Depth:10 Accuracy : 94.15204678362574\n"
          ],
          "name": "stdout"
        }
      ]
    },
    {
      "cell_type": "markdown",
      "metadata": {
        "id": "MiJdtn859-pt"
      },
      "source": [
        "## Test Size:Train Size = 70:30"
      ]
    },
    {
      "cell_type": "code",
      "metadata": {
        "id": "ISR26bWR86Lw"
      },
      "source": [
        "X = df.values[:, 1:10]\n",
        "Y = df.values[:, -1]\n",
        "X_train, X_test, y_train, y_test = train_test_split(X, Y, test_size = 0.7)"
      ],
      "execution_count": 20,
      "outputs": []
    },
    {
      "cell_type": "code",
      "metadata": {
        "colab": {
          "base_uri": "https://localhost:8080/"
        },
        "id": "3RDDpdsA8-GU",
        "outputId": "5e7c4a7b-b8e9-473b-91c0-0b5ebc5a02b1"
      },
      "source": [
        "x_axis3=[]\n",
        "y_axis3=[]\n",
        "x_axis6=[]\n",
        "y_axis6=[]\n",
        "for i in range(1,11):\n",
        "  clf_gini = DecisionTreeClassifier(criterion = \"gini\", max_depth=i)\n",
        "  clf_gini.fit(X_train, y_train)\n",
        "  y_pred = clf_gini.predict(X_test)\n",
        "  # print(\"Predicted values:\")\n",
        "  # print(y_pred)\n",
        "  print (f\"Depth:{i} Accuracy : {accuracy_score(y_test,y_pred)*100}\")\n",
        "  y_axis3.append(accuracy_score(y_test,y_pred)*100)\n",
        "  x_axis3.append(i)\n",
        "  y_pred = clf_gini.predict(X_train)\n",
        "  # print(\"Predicted values:\")\n",
        "  # print(y_pred)\n",
        "  # print (f\"Depth:{i} Accuracy : {accuracy_score(y_test,y_pred)*100}\")\n",
        "  y_axis6.append(accuracy_score(y_train,y_pred)*100)\n",
        "  x_axis6.append(i)"
      ],
      "execution_count": 21,
      "outputs": [
        {
          "output_type": "stream",
          "text": [
            "Depth:1 Accuracy : 90.6054279749478\n",
            "Depth:2 Accuracy : 96.86847599164928\n",
            "Depth:3 Accuracy : 96.4509394572025\n",
            "Depth:4 Accuracy : 94.98956158663883\n",
            "Depth:5 Accuracy : 94.98956158663883\n",
            "Depth:6 Accuracy : 95.4070981210856\n",
            "Depth:7 Accuracy : 94.78079331941545\n",
            "Depth:8 Accuracy : 95.19832985386222\n",
            "Depth:9 Accuracy : 94.78079331941545\n",
            "Depth:10 Accuracy : 95.19832985386222\n"
          ],
          "name": "stdout"
        }
      ]
    },
    {
      "cell_type": "markdown",
      "metadata": {
        "id": "zVKLoS6t-A0p"
      },
      "source": [
        "## Plotting"
      ]
    },
    {
      "cell_type": "code",
      "metadata": {
        "colab": {
          "base_uri": "https://localhost:8080/",
          "height": 761
        },
        "id": "F1VU95Ys1nTt",
        "outputId": "39dadc34-5210-4a0b-d946-c01da5336d79"
      },
      "source": [
        "plt.plot(x_axis1, y_axis1)\n",
        "plt.plot(x_axis4, y_axis4)\n",
        "plt.show()\n",
        "plt.plot(x_axis2, y_axis2)\n",
        "plt.plot(x_axis5, y_axis5)\n",
        "plt.show()\n",
        "plt.plot(x_axis3, y_axis3)\n",
        "plt.plot(x_axis6, y_axis6)\n",
        "plt.show()"
      ],
      "execution_count": 22,
      "outputs": [
        {
          "output_type": "display_data",
          "data": {
            "image/png": "[encoded data removed]",
            "text/plain": [
              "<Figure size 432x288 with 1 Axes>"
            ]
          },
          "metadata": {
            "tags": [],
            "needs_background": "light"
          }
        },
        {
          "output_type": "display_data",
          "data": {
            "image/png": "[encoded data removed]",
            "text/plain": [
              "<Figure size 432x288 with 1 Axes>"
            ]
          },
          "metadata": {
            "tags": [],
            "needs_background": "light"
          }
        },
        {
          "output_type": "display_data",
          "data": {
            "image/png": "[encoded data removed]",
            "text/plain": [
              "<Figure size 432x288 with 1 Axes>"
            ]
          },
          "metadata": {
            "tags": [],
            "needs_background": "light"
          }
        }
      ]
    }
  ]
}